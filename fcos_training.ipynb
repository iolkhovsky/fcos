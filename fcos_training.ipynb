{
  "nbformat": 4,
  "nbformat_minor": 0,
  "metadata": {
    "colab": {
      "provenance": []
    },
    "kernelspec": {
      "name": "python3",
      "display_name": "Python 3"
    },
    "language_info": {
      "name": "python"
    },
    "accelerator": "GPU",
    "gpuClass": "standard"
  },
  "cells": [
    {
      "cell_type": "code",
      "source": [
        "!nvidia-smi"
      ],
      "metadata": {
        "colab": {
          "base_uri": "https://localhost:8080/"
        },
        "id": "Bs-I63gYyEaa",
        "outputId": "36ba35b6-b906-4471-c0ca-24818dbce419"
      },
      "execution_count": 1,
      "outputs": [
        {
          "output_type": "stream",
          "name": "stdout",
          "text": [
            "Wed Feb  8 21:16:46 2023       \n",
            "+-----------------------------------------------------------------------------+\n",
            "| NVIDIA-SMI 510.47.03    Driver Version: 510.47.03    CUDA Version: 11.6     |\n",
            "|-------------------------------+----------------------+----------------------+\n",
            "| GPU  Name        Persistence-M| Bus-Id        Disp.A | Volatile Uncorr. ECC |\n",
            "| Fan  Temp  Perf  Pwr:Usage/Cap|         Memory-Usage | GPU-Util  Compute M. |\n",
            "|                               |                      |               MIG M. |\n",
            "|===============================+======================+======================|\n",
            "|   0  Tesla T4            Off  | 00000000:00:04.0 Off |                    0 |\n",
            "| N/A   44C    P0    25W /  70W |      0MiB / 15360MiB |      0%      Default |\n",
            "|                               |                      |                  N/A |\n",
            "+-------------------------------+----------------------+----------------------+\n",
            "                                                                               \n",
            "+-----------------------------------------------------------------------------+\n",
            "| Processes:                                                                  |\n",
            "|  GPU   GI   CI        PID   Type   Process name                  GPU Memory |\n",
            "|        ID   ID                                                   Usage      |\n",
            "|=============================================================================|\n",
            "|  No running processes found                                                 |\n",
            "+-----------------------------------------------------------------------------+\n"
          ]
        }
      ]
    },
    {
      "cell_type": "code",
      "execution_count": 2,
      "metadata": {
        "colab": {
          "base_uri": "https://localhost:8080/"
        },
        "id": "FakSbfMB81e8",
        "outputId": "5861454d-1a2d-4f98-b2fa-d8a1786ca7d4"
      },
      "outputs": [
        {
          "output_type": "stream",
          "name": "stdout",
          "text": [
            "fatal: destination path 'fcos' already exists and is not an empty directory.\n",
            "/content/fcos\n",
            "From https://github.com/iolkhovsky/fcos\n",
            " * branch            develop    -> FETCH_HEAD\n",
            "Already up to date.\n",
            "Already on 'develop'\n",
            "Your branch is up to date with 'origin/develop'.\n",
            "/content/fcos\n",
            "common\t dataset  fcos\t    requirements_colab.txt  run.py\t   tests\n",
            "configs  docs\t  Makefile  requirements.txt\t    Sandbox.ipynb  train.py\n"
          ]
        }
      ],
      "source": [
        "! git clone https://github.com/iolkhovsky/fcos\n",
        "%cd fcos/\n",
        "! git pull origin develop\n",
        "! git checkout develop\n",
        "! pwd\n",
        "! ls"
      ]
    },
    {
      "cell_type": "code",
      "source": [
        "!make install_colab"
      ],
      "metadata": {
        "colab": {
          "base_uri": "https://localhost:8080/"
        },
        "id": "W86hY9Mfs00m",
        "outputId": "7d7e9a59-18df-4c44-abb3-5849f21c1d6b"
      },
      "execution_count": 3,
      "outputs": [
        {
          "output_type": "stream",
          "name": "stdout",
          "text": [
            "pip3 install -r requirements_colab.txt\n",
            "Looking in indexes: https://pypi.org/simple, https://us-python.pkg.dev/colab-wheels/public/simple/\n",
            "Requirement already satisfied: torchmetrics in /usr/local/lib/python3.8/dist-packages (from -r requirements_colab.txt (line 1)) (0.11.1)\n",
            "Requirement already satisfied: typing-extensions in /usr/local/lib/python3.8/dist-packages (from torchmetrics->-r requirements_colab.txt (line 1)) (4.4.0)\n",
            "Requirement already satisfied: torch>=1.8.1 in /usr/local/lib/python3.8/dist-packages (from torchmetrics->-r requirements_colab.txt (line 1)) (1.13.1+cu116)\n",
            "Requirement already satisfied: numpy>=1.17.2 in /usr/local/lib/python3.8/dist-packages (from torchmetrics->-r requirements_colab.txt (line 1)) (1.21.6)\n",
            "Requirement already satisfied: packaging in /usr/local/lib/python3.8/dist-packages (from torchmetrics->-r requirements_colab.txt (line 1)) (23.0)\n"
          ]
        }
      ]
    },
    {
      "cell_type": "code",
      "source": [
        "import os\n",
        "from google.colab import drive\n",
        "\n",
        "\n",
        "DRIVE_ROOT = \"/content/drive\"\n",
        "drive.mount(DRIVE_ROOT)\n",
        "WORKSPACE = \"colab_training\"\n",
        "\n",
        "logs_root = os.path.join(DRIVE_ROOT, \"MyDrive\", WORKSPACE, \"logs\")\n",
        "if not os.path.isdir(logs_root):\n",
        "    os.makedirs(logs_root)\n",
        "print(f\"Logs root: {logs_root}\")\n",
        "os.environ[\"LOGS_ROOT\"] = logs_root\n",
        "checkpoints_root = os.path.join(DRIVE_ROOT, \"MyDrive\", WORKSPACE, \"checkpoints\")\n",
        "if not os.path.isdir(checkpoints_root):\n",
        "    os.makedirs(checkpoints_root)\n",
        "print(f\"Checkpoints root: {checkpoints_root}\")\n",
        "\n",
        "dataset_root = os.path.join(DRIVE_ROOT, \"MyDrive\", WORKSPACE, \"dataset\")\n",
        "if not os.path.isdir(checkpoints_root):\n",
        "    os.makedirs(checkpoints_root)\n",
        "print(f\"Dataset root: {dataset_root}\")"
      ],
      "metadata": {
        "colab": {
          "base_uri": "https://localhost:8080/"
        },
        "id": "iFL_7Qghl47J",
        "outputId": "49ae2a62-6fec-4543-faaa-63b0102d34df"
      },
      "execution_count": 4,
      "outputs": [
        {
          "output_type": "stream",
          "name": "stdout",
          "text": [
            "Drive already mounted at /content/drive; to attempt to forcibly remount, call drive.mount(\"/content/drive\", force_remount=True).\n",
            "Logs root: /content/drive/MyDrive/colab_training/logs\n",
            "Checkpoints root: /content/drive/MyDrive/colab_training/checkpoints\n",
            "Dataset root: /content/drive/MyDrive/colab_training/dataset\n"
          ]
        }
      ]
    },
    {
      "cell_type": "code",
      "source": [
        "from common.utils import read_yaml, write_yaml\n",
        "\n",
        "\n",
        "training_config = read_yaml(\"configs/train.yaml\")\n",
        "training_config[\"logs\"][\"path\"] = logs_root\n",
        "training_config[\"checkpoints\"][\"path\"] = checkpoints_root\n",
        "training_config[\"dataset\"][\"root\"] = dataset_root\n",
        "training_config[\"dataset\"][\"download\"] = False\n",
        "training_config[\"epochs\"] = 50\n",
        "training_config[\"validation_period\"][\"value\"] = 10\n",
        "train_config_path = os.path.join(logs_root, \"training_config.yaml\")\n",
        "print(f\"Training config path: {train_config_path}\")\n",
        "os.environ[\"TRAINING_CONFIG\"] = train_config_path\n",
        "write_yaml(training_config, train_config_path)\n",
        "training_config"
      ],
      "metadata": {
        "colab": {
          "base_uri": "https://localhost:8080/"
        },
        "id": "5Khhnze1mqPB",
        "outputId": "2d3ddc81-00f9-451e-c99e-283cf371c50d"
      },
      "execution_count": 5,
      "outputs": [
        {
          "output_type": "stream",
          "name": "stdout",
          "text": [
            "Training config path: /content/drive/MyDrive/colab_training/logs/training_config.yaml\n"
          ]
        },
        {
          "output_type": "execute_result",
          "data": {
            "text/plain": [
              "{'model': {'backbone': 'resnet50',\n",
              "  'labels': 'VocLabelsCodec',\n",
              "  'resolution': [256, 256]},\n",
              " 'dataset': {'train': {'batch_size': 16},\n",
              "  'val': {'batch_size': 36},\n",
              "  'root': '/content/drive/MyDrive/colab_training/dataset',\n",
              "  'download': False},\n",
              " 'optimizer': {'type': 'SGD', 'parameters': {'lr': '1e-2', 'momentum': 0.9}},\n",
              " 'scheduler': {'type': 'ExponentialLR',\n",
              "  'parameters': {'gamma': 0.9, 'last_epoch': -1, 'verbose': False}},\n",
              " 'epochs': 50,\n",
              " 'autosave_period': {'value': 10, 'type': 'min'},\n",
              " 'validation_period': {'value': 10, 'type': 'min'},\n",
              " 'logs': {'path': '/content/drive/MyDrive/colab_training/logs'},\n",
              " 'checkpoints': {'path': '/content/drive/MyDrive/colab_training/checkpoints'},\n",
              " 'gradient_clip': 1.0}"
            ]
          },
          "metadata": {},
          "execution_count": 5
        }
      ]
    },
    {
      "cell_type": "code",
      "source": [
        "!python train.py --config=/content/drive/MyDrive/colab_training/logs/training_config.yaml"
      ],
      "metadata": {
        "colab": {
          "base_uri": "https://localhost:8080/"
        },
        "id": "Cja-OUfplYoi",
        "outputId": "885909d5-487c-4c62-926d-72af9813cd38"
      },
      "execution_count": 6,
      "outputs": [
        {
          "output_type": "stream",
          "name": "stdout",
          "text": [
            "{\n",
            "    \"autosave_period\": {\n",
            "        \"type\": \"min\",\n",
            "        \"value\": 10\n",
            "    },\n",
            "    \"checkpoints\": {\n",
            "        \"path\": \"/content/drive/MyDrive/colab_training/checkpoints\"\n",
            "    },\n",
            "    \"dataset\": {\n",
            "        \"download\": false,\n",
            "        \"root\": \"/content/drive/MyDrive/colab_training/dataset\",\n",
            "        \"train\": {\n",
            "            \"batch_size\": 16\n",
            "        },\n",
            "        \"val\": {\n",
            "            \"batch_size\": 36\n",
            "        }\n",
            "    },\n",
            "    \"epochs\": 50,\n",
            "    \"gradient_clip\": 1.0,\n",
            "    \"logs\": {\n",
            "        \"path\": \"/content/drive/MyDrive/colab_training/logs\"\n",
            "    },\n",
            "    \"model\": {\n",
            "        \"backbone\": \"resnet50\",\n",
            "        \"labels\": \"VocLabelsCodec\",\n",
            "        \"resolution\": [\n",
            "            256,\n",
            "            256\n",
            "        ]\n",
            "    },\n",
            "    \"optimizer\": {\n",
            "        \"parameters\": {\n",
            "            \"lr\": \"1e-2\",\n",
            "            \"momentum\": 0.9\n",
            "        },\n",
            "        \"type\": \"SGD\"\n",
            "    },\n",
            "    \"scheduler\": {\n",
            "        \"parameters\": {\n",
            "            \"gamma\": 0.9,\n",
            "            \"last_epoch\": -1,\n",
            "            \"verbose\": false\n",
            "        },\n",
            "        \"type\": \"ExponentialLR\"\n",
            "    },\n",
            "    \"validation_period\": {\n",
            "        \"type\": \"min\",\n",
            "        \"value\": 10\n",
            "    }\n",
            "}\n",
            "Platform: Linux\n",
            "Release: 5.10.147+\n",
            "MPS available: False\n",
            "CUDA available: True\n",
            "Selected device: cuda\n",
            "/content/fcos/dataset/loader.py:59: UserWarning: Creating a tensor from a list of numpy.ndarrays is extremely slow. Please consider converting the list to a single numpy.ndarray with numpy.array() before converting to a tensor. (Triggered internally at ../torch/csrc/utils/tensor_new.cpp:230.)\n",
            "  return torch.Tensor(images), bboxes, labels\n",
            "  0% 0/5728 [00:00<?, ?it/s]/content/fcos/fcos/encoder.py:97: UserWarning: To copy construct from a tensor, it is recommended to use sourceTensor.clone().detach() or sourceTensor.clone().detach().requires_grad_(True), rather than torch.tensor(sourceTensor).\n",
            "  max_regression_value = max(torch.tensor(ltrb, dtype=torch.float))\n",
            "Epoch: 0/50 Step 18/5728 Loss: nan:   0% 19/5728 [01:23<6:43:50,  4.24s/it]../aten/src/ATen/native/cuda/Loss.cu:92: operator(): block: [39,0,0], thread: [64,0,0] Assertion `input_val >= zero && input_val <= one` failed.\n",
            "../aten/src/ATen/native/cuda/Loss.cu:92: operator(): block: [39,0,0], thread: [65,0,0] Assertion `input_val >= zero && input_val <= one` failed.\n",
            "../aten/src/ATen/native/cuda/Loss.cu:92: operator(): block: [39,0,0], thread: [66,0,0] Assertion `input_val >= zero && input_val <= one` failed.\n",
            "../aten/src/ATen/native/cuda/Loss.cu:92: operator(): block: [39,0,0], thread: [67,0,0] Assertion `input_val >= zero && input_val <= one` failed.\n",
            "../aten/src/ATen/native/cuda/Loss.cu:92: operator(): block: [39,0,0], thread: [68,0,0] Assertion `input_val >= zero && input_val <= one` failed.\n",
            "../aten/src/ATen/native/cuda/Loss.cu:92: operator(): block: [39,0,0], thread: [69,0,0] Assertion `input_val >= zero && input_val <= one` failed.\n",
            "../aten/src/ATen/native/cuda/Loss.cu:92: operator(): block: [39,0,0], thread: [70,0,0] Assertion `input_val >= zero && input_val <= one` failed.\n",
            "../aten/src/ATen/native/cuda/Loss.cu:92: operator(): block: [39,0,0], thread: [71,0,0] Assertion `input_val >= zero && input_val <= one` failed.\n",
            "../aten/src/ATen/native/cuda/Loss.cu:92: operator(): block: [39,0,0], thread: [72,0,0] Assertion `input_val >= zero && input_val <= one` failed.\n",
            "../aten/src/ATen/native/cuda/Loss.cu:92: operator(): block: [39,0,0], thread: [73,0,0] Assertion `input_val >= zero && input_val <= one` failed.\n",
            "../aten/src/ATen/native/cuda/Loss.cu:92: operator(): block: [39,0,0], thread: [74,0,0] Assertion `input_val >= zero && input_val <= one` failed.\n",
            "../aten/src/ATen/native/cuda/Loss.cu:92: operator(): block: [39,0,0], thread: [75,0,0] Assertion `input_val >= zero && input_val <= one` failed.\n",
            "../aten/src/ATen/native/cuda/Loss.cu:92: operator(): block: [39,0,0], thread: [76,0,0] Assertion `input_val >= zero && input_val <= one` failed.\n",
            "../aten/src/ATen/native/cuda/Loss.cu:92: operator(): block: [39,0,0], thread: [77,0,0] Assertion `input_val >= zero && input_val <= one` failed.\n",
            "../aten/src/ATen/native/cuda/Loss.cu:92: operator(): block: [39,0,0], thread: [78,0,0] Assertion `input_val >= zero && input_val <= one` failed.\n",
            "../aten/src/ATen/native/cuda/Loss.cu:92: operator(): block: [39,0,0], thread: [79,0,0] Assertion `input_val >= zero && input_val <= one` failed.\n",
            "../aten/src/ATen/native/cuda/Loss.cu:92: operator(): block: [39,0,0], thread: [80,0,0] Assertion `input_val >= zero && input_val <= one` failed.\n",
            "../aten/src/ATen/native/cuda/Loss.cu:92: operator(): block: [39,0,0], thread: [81,0,0] Assertion `input_val >= zero && input_val <= one` failed.\n",
            "../aten/src/ATen/native/cuda/Loss.cu:92: operator(): block: [39,0,0], thread: [82,0,0] Assertion `input_val >= zero && input_val <= one` failed.\n",
            "../aten/src/ATen/native/cuda/Loss.cu:92: operator(): block: [39,0,0], thread: [83,0,0] Assertion `input_val >= zero && input_val <= one` failed.\n",
            "../aten/src/ATen/native/cuda/Loss.cu:92: operator(): block: [39,0,0], thread: [84,0,0] Assertion `input_val >= zero && input_val <= one` failed.\n",
            "../aten/src/ATen/native/cuda/Loss.cu:92: operator(): block: [39,0,0], thread: [85,0,0] Assertion `input_val >= zero && input_val <= one` failed.\n",
            "../aten/src/ATen/native/cuda/Loss.cu:92: operator(): block: [39,0,0], thread: [86,0,0] Assertion `input_val >= zero && input_val <= one` failed.\n",
            "../aten/src/ATen/native/cuda/Loss.cu:92: operator(): block: [39,0,0], thread: [87,0,0] Assertion `input_val >= zero && input_val <= one` failed.\n",
            "../aten/src/ATen/native/cuda/Loss.cu:92: operator(): block: [39,0,0], thread: [88,0,0] Assertion `input_val >= zero && input_val <= one` failed.\n",
            "../aten/src/ATen/native/cuda/Loss.cu:92: operator(): block: [39,0,0], thread: [89,0,0] Assertion `input_val >= zero && input_val <= one` failed.\n",
            "../aten/src/ATen/native/cuda/Loss.cu:92: operator(): block: [39,0,0], thread: [90,0,0] Assertion `input_val >= zero && input_val <= one` failed.\n",
            "../aten/src/ATen/native/cuda/Loss.cu:92: operator(): block: [39,0,0], thread: [91,0,0] Assertion `input_val >= zero && input_val <= one` failed.\n",
            "../aten/src/ATen/native/cuda/Loss.cu:92: operator(): block: [39,0,0], thread: [92,0,0] Assertion `input_val >= zero && input_val <= one` failed.\n",
            "../aten/src/ATen/native/cuda/Loss.cu:92: operator(): block: [39,0,0], thread: [93,0,0] Assertion `input_val >= zero && input_val <= one` failed.\n",
            "../aten/src/ATen/native/cuda/Loss.cu:92: operator(): block: [39,0,0], thread: [94,0,0] Assertion `input_val >= zero && input_val <= one` failed.\n",
            "../aten/src/ATen/native/cuda/Loss.cu:92: operator(): block: [39,0,0], thread: [95,0,0] Assertion `input_val >= zero && input_val <= one` failed.\n",
            "../aten/src/ATen/native/cuda/Loss.cu:92: operator(): block: [30,0,0], thread: [32,0,0] Assertion `input_val >= zero && input_val <= one` failed.\n",
            "../aten/src/ATen/native/cuda/Loss.cu:92: operator(): block: [30,0,0], thread: [33,0,0] Assertion `input_val >= zero && input_val <= one` failed.\n",
            "../aten/src/ATen/native/cuda/Loss.cu:92: operator(): block: [30,0,0], thread: [34,0,0] Assertion `input_val >= zero && input_val <= one` failed.\n",
            "../aten/src/ATen/native/cuda/Loss.cu:92: operator(): block: [30,0,0], thread: [35,0,0] Assertion `input_val >= zero && input_val <= one` failed.\n",
            "../aten/src/ATen/native/cuda/Loss.cu:92: operator(): block: [30,0,0], thread: [36,0,0] Assertion `input_val >= zero && input_val <= one` failed.\n",
            "../aten/src/ATen/native/cuda/Loss.cu:92: operator(): block: [30,0,0], thread: [37,0,0] Assertion `input_val >= zero && input_val <= one` failed.\n",
            "../aten/src/ATen/native/cuda/Loss.cu:92: operator(): block: [30,0,0], thread: [38,0,0] Assertion `input_val >= zero && input_val <= one` failed.\n",
            "../aten/src/ATen/native/cuda/Loss.cu:92: operator(): block: [30,0,0], thread: [39,0,0] Assertion `input_val >= zero && input_val <= one` failed.\n",
            "../aten/src/ATen/native/cuda/Loss.cu:92: operator(): block: [30,0,0], thread: [40,0,0] Assertion `input_val >= zero && input_val <= one` failed.\n",
            "../aten/src/ATen/native/cuda/Loss.cu:92: operator(): block: [30,0,0], thread: [41,0,0] Assertion `input_val >= zero && input_val <= one` failed.\n",
            "../aten/src/ATen/native/cuda/Loss.cu:92: operator(): block: [30,0,0], thread: [42,0,0] Assertion `input_val >= zero && input_val <= one` failed.\n",
            "../aten/src/ATen/native/cuda/Loss.cu:92: operator(): block: [30,0,0], thread: [43,0,0] Assertion `input_val >= zero && input_val <= one` failed.\n",
            "../aten/src/ATen/native/cuda/Loss.cu:92: operator(): block: [30,0,0], thread: [44,0,0] Assertion `input_val >= zero && input_val <= one` failed.\n",
            "../aten/src/ATen/native/cuda/Loss.cu:92: operator(): block: [30,0,0], thread: [45,0,0] Assertion `input_val >= zero && input_val <= one` failed.\n",
            "../aten/src/ATen/native/cuda/Loss.cu:92: operator(): block: [30,0,0], thread: [46,0,0] Assertion `input_val >= zero && input_val <= one` failed.\n",
            "../aten/src/ATen/native/cuda/Loss.cu:92: operator(): block: [30,0,0], thread: [47,0,0] Assertion `input_val >= zero && input_val <= one` failed.\n",
            "../aten/src/ATen/native/cuda/Loss.cu:92: operator(): block: [30,0,0], thread: [48,0,0] Assertion `input_val >= zero && input_val <= one` failed.\n",
            "../aten/src/ATen/native/cuda/Loss.cu:92: operator(): block: [30,0,0], thread: [49,0,0] Assertion `input_val >= zero && input_val <= one` failed.\n",
            "../aten/src/ATen/native/cuda/Loss.cu:92: operator(): block: [30,0,0], thread: [50,0,0] Assertion `input_val >= zero && input_val <= one` failed.\n",
            "../aten/src/ATen/native/cuda/Loss.cu:92: operator(): block: [30,0,0], thread: [51,0,0] Assertion `input_val >= zero && input_val <= one` failed.\n",
            "../aten/src/ATen/native/cuda/Loss.cu:92: operator(): block: [30,0,0], thread: [52,0,0] Assertion `input_val >= zero && input_val <= one` failed.\n",
            "../aten/src/ATen/native/cuda/Loss.cu:92: operator(): block: [30,0,0], thread: [53,0,0] Assertion `input_val >= zero && input_val <= one` failed.\n",
            "../aten/src/ATen/native/cuda/Loss.cu:92: operator(): block: [30,0,0], thread: [54,0,0] Assertion `input_val >= zero && input_val <= one` failed.\n",
            "../aten/src/ATen/native/cuda/Loss.cu:92: operator(): block: [30,0,0], thread: [55,0,0] Assertion `input_val >= zero && input_val <= one` failed.\n",
            "../aten/src/ATen/native/cuda/Loss.cu:92: operator(): block: [30,0,0], thread: [56,0,0] Assertion `input_val >= zero && input_val <= one` failed.\n",
            "../aten/src/ATen/native/cuda/Loss.cu:92: operator(): block: [30,0,0], thread: [57,0,0] Assertion `input_val >= zero && input_val <= one` failed.\n",
            "../aten/src/ATen/native/cuda/Loss.cu:92: operator(): block: [30,0,0], thread: [58,0,0] Assertion `input_val >= zero && input_val <= one` failed.\n",
            "../aten/src/ATen/native/cuda/Loss.cu:92: operator(): block: [30,0,0], thread: [59,0,0] Assertion `input_val >= zero && input_val <= one` failed.\n",
            "../aten/src/ATen/native/cuda/Loss.cu:92: operator(): block: [30,0,0], thread: [60,0,0] Assertion `input_val >= zero && input_val <= one` failed.\n",
            "../aten/src/ATen/native/cuda/Loss.cu:92: operator(): block: [30,0,0], thread: [61,0,0] Assertion `input_val >= zero && input_val <= one` failed.\n",
            "../aten/src/ATen/native/cuda/Loss.cu:92: operator(): block: [30,0,0], thread: [62,0,0] Assertion `input_val >= zero && input_val <= one` failed.\n",
            "../aten/src/ATen/native/cuda/Loss.cu:92: operator(): block: [30,0,0], thread: [63,0,0] Assertion `input_val >= zero && input_val <= one` failed.\n",
            "../aten/src/ATen/native/cuda/Loss.cu:92: operator(): block: [70,0,0], thread: [64,0,0] Assertion `input_val >= zero && input_val <= one` failed.\n",
            "../aten/src/ATen/native/cuda/Loss.cu:92: operator(): block: [70,0,0], thread: [65,0,0] Assertion `input_val >= zero && input_val <= one` failed.\n",
            "../aten/src/ATen/native/cuda/Loss.cu:92: operator(): block: [70,0,0], thread: [66,0,0] Assertion `input_val >= zero && input_val <= one` failed.\n",
            "../aten/src/ATen/native/cuda/Loss.cu:92: operator(): block: [70,0,0], thread: [67,0,0] Assertion `input_val >= zero && input_val <= one` failed.\n",
            "../aten/src/ATen/native/cuda/Loss.cu:92: operator(): block: [70,0,0], thread: [68,0,0] Assertion `input_val >= zero && input_val <= one` failed.\n",
            "../aten/src/ATen/native/cuda/Loss.cu:92: operator(): block: [70,0,0], thread: [69,0,0] Assertion `input_val >= zero && input_val <= one` failed.\n",
            "../aten/src/ATen/native/cuda/Loss.cu:92: operator(): block: [70,0,0], thread: [70,0,0] Assertion `input_val >= zero && input_val <= one` failed.\n",
            "../aten/src/ATen/native/cuda/Loss.cu:92: operator(): block: [70,0,0], thread: [71,0,0] Assertion `input_val >= zero && input_val <= one` failed.\n",
            "../aten/src/ATen/native/cuda/Loss.cu:92: operator(): block: [70,0,0], thread: [72,0,0] Assertion `input_val >= zero && input_val <= one` failed.\n",
            "../aten/src/ATen/native/cuda/Loss.cu:92: operator(): block: [70,0,0], thread: [73,0,0] Assertion `input_val >= zero && input_val <= one` failed.\n",
            "../aten/src/ATen/native/cuda/Loss.cu:92: operator(): block: [70,0,0], thread: [74,0,0] Assertion `input_val >= zero && input_val <= one` failed.\n",
            "../aten/src/ATen/native/cuda/Loss.cu:92: operator(): block: [70,0,0], thread: [75,0,0] Assertion `input_val >= zero && input_val <= one` failed.\n",
            "../aten/src/ATen/native/cuda/Loss.cu:92: operator(): block: [70,0,0], thread: [76,0,0] Assertion `input_val >= zero && input_val <= one` failed.\n",
            "../aten/src/ATen/native/cuda/Loss.cu:92: operator(): block: [70,0,0], thread: [77,0,0] Assertion `input_val >= zero && input_val <= one` failed.\n",
            "../aten/src/ATen/native/cuda/Loss.cu:92: operator(): block: [70,0,0], thread: [78,0,0] Assertion `input_val >= zero && input_val <= one` failed.\n",
            "../aten/src/ATen/native/cuda/Loss.cu:92: operator(): block: [70,0,0], thread: [79,0,0] Assertion `input_val >= zero && input_val <= one` failed.\n",
            "../aten/src/ATen/native/cuda/Loss.cu:92: operator(): block: [70,0,0], thread: [80,0,0] Assertion `input_val >= zero && input_val <= one` failed.\n",
            "../aten/src/ATen/native/cuda/Loss.cu:92: operator(): block: [70,0,0], thread: [81,0,0] Assertion `input_val >= zero && input_val <= one` failed.\n",
            "../aten/src/ATen/native/cuda/Loss.cu:92: operator(): block: [70,0,0], thread: [82,0,0] Assertion `input_val >= zero && input_val <= one` failed.\n",
            "../aten/src/ATen/native/cuda/Loss.cu:92: operator(): block: [70,0,0], thread: [83,0,0] Assertion `input_val >= zero && input_val <= one` failed.\n",
            "../aten/src/ATen/native/cuda/Loss.cu:92: operator(): block: [70,0,0], thread: [84,0,0] Assertion `input_val >= zero && input_val <= one` failed.\n",
            "../aten/src/ATen/native/cuda/Loss.cu:92: operator(): block: [70,0,0], thread: [85,0,0] Assertion `input_val >= zero && input_val <= one` failed.\n",
            "../aten/src/ATen/native/cuda/Loss.cu:92: operator(): block: [70,0,0], thread: [86,0,0] Assertion `input_val >= zero && input_val <= one` failed.\n",
            "../aten/src/ATen/native/cuda/Loss.cu:92: operator(): block: [70,0,0], thread: [87,0,0] Assertion `input_val >= zero && input_val <= one` failed.\n",
            "../aten/src/ATen/native/cuda/Loss.cu:92: operator(): block: [70,0,0], thread: [88,0,0] Assertion `input_val >= zero && input_val <= one` failed.\n",
            "../aten/src/ATen/native/cuda/Loss.cu:92: operator(): block: [70,0,0], thread: [89,0,0] Assertion `input_val >= zero && input_val <= one` failed.\n",
            "../aten/src/ATen/native/cuda/Loss.cu:92: operator(): block: [70,0,0], thread: [90,0,0] Assertion `input_val >= zero && input_val <= one` failed.\n",
            "../aten/src/ATen/native/cuda/Loss.cu:92: operator(): block: [70,0,0], thread: [91,0,0] Assertion `input_val >= zero && input_val <= one` failed.\n",
            "../aten/src/ATen/native/cuda/Loss.cu:92: operator(): block: [70,0,0], thread: [92,0,0] Assertion `input_val >= zero && input_val <= one` failed.\n",
            "../aten/src/ATen/native/cuda/Loss.cu:92: operator(): block: [70,0,0], thread: [93,0,0] Assertion `input_val >= zero && input_val <= one` failed.\n",
            "../aten/src/ATen/native/cuda/Loss.cu:92: operator(): block: [70,0,0], thread: [94,0,0] Assertion `input_val >= zero && input_val <= one` failed.\n",
            "../aten/src/ATen/native/cuda/Loss.cu:92: operator(): block: [70,0,0], thread: [95,0,0] Assertion `input_val >= zero && input_val <= one` failed.\n",
            "Error: Got an unhandled exception during epoch 0 step 19\n",
            "Traceback (most recent call last):\n",
            "  File \"/content/fcos/fcos/trainer.py\", line 135, in run\n",
            "    total_loss.backward()\n",
            "  File \"/usr/local/lib/python3.8/dist-packages/torch/_tensor.py\", line 488, in backward\n",
            "    torch.autograd.backward(\n",
            "  File \"/usr/local/lib/python3.8/dist-packages/torch/autograd/__init__.py\", line 197, in backward\n",
            "    Variable._execution_engine.run_backward(  # Calls into the C++ engine to run the backward pass\n",
            "RuntimeError: cuDNN error: CUDNN_STATUS_MAPPING_ERROR\n",
            "\n",
            "Epoch: 0/50 Step 19/5728 Loss: -2.4255599975585938:   0% 20/5728 [01:26<6:16:33,  3.96s/it]Error: Got an unhandled exception during epoch 0 step 20\n",
            "Traceback (most recent call last):\n",
            "  File \"/content/fcos/fcos/trainer.py\", line 132, in run\n",
            "    loss = self.model(imgs, targets)\n",
            "  File \"/usr/local/lib/python3.8/dist-packages/torch/nn/modules/module.py\", line 1194, in _call_impl\n",
            "    return forward_call(*input, **kwargs)\n",
            "  File \"/content/fcos/fcos/model.py\", line 21, in forward\n",
            "    preprocessed_inputs, scales = self._preprocessor(x)\n",
            "  File \"/usr/local/lib/python3.8/dist-packages/torch/nn/modules/module.py\", line 1194, in _call_impl\n",
            "    return forward_call(*input, **kwargs)\n",
            "  File \"/content/fcos/fcos/preprocessor.py\", line 47, in forward\n",
            "    normalized_tensors = self._normalize(tensors)\n",
            "  File \"/usr/local/lib/python3.8/dist-packages/torch/nn/modules/module.py\", line 1194, in _call_impl\n",
            "    return forward_call(*input, **kwargs)\n",
            "  File \"/usr/local/lib/python3.8/dist-packages/torchvision/transforms/transforms.py\", line 270, in forward\n",
            "    return F.normalize(tensor, self.mean, self.std, self.inplace)\n",
            "  File \"/usr/local/lib/python3.8/dist-packages/torchvision/transforms/functional.py\", line 360, in normalize\n",
            "    return F_t.normalize(tensor, mean=mean, std=std, inplace=inplace)\n",
            "  File \"/usr/local/lib/python3.8/dist-packages/torchvision/transforms/functional_tensor.py\", line 935, in normalize\n",
            "    raise ValueError(f\"std evaluated to zero after conversion to {dtype}, leading to division by zero.\")\n",
            "ValueError: std evaluated to zero after conversion to torch.float32, leading to division by zero.\n",
            "\n",
            "Epoch: 0/50 Step 20/5728 Loss: -6.996037082984685e-11:   0% 21/5728 [01:32<6:57:03,  4.38s/it]\n",
            "Traceback (most recent call last):\n",
            "  File \"train.py\", line 103, in <module>\n",
            "    run_training(parse_cmd_args())\n",
            "  File \"train.py\", line 100, in run_training\n",
            "    trainer.run()\n",
            "  File \"/content/fcos/fcos/trainer.py\", line 130, in run\n",
            "    targets = self.encoder(boxes, labels)\n",
            "  File \"/usr/local/lib/python3.8/dist-packages/torch/nn/modules/module.py\", line 1194, in _call_impl\n",
            "    return forward_call(*input, **kwargs)\n",
            "  File \"/content/fcos/fcos/encoder.py\", line 96, in forward\n",
            "    centerness, ltrb = self._encode_box_at(box, map=feature_map, y=y_pos, x=x_pos)\n",
            "  File \"/content/fcos/fcos/encoder.py\", line 59, in _encode_box_at\n",
            "    return box_centerness(ltrb_box), ltrb_box\n",
            "  File \"/content/fcos/fcos/encoder.py\", line 9, in box_centerness\n",
            "    (min(l, r) * min(t, b)) / (max(l, r) * max(t, b))\n",
            "KeyboardInterrupt\n",
            "^C\n"
          ]
        }
      ]
    },
    {
      "cell_type": "code",
      "source": [],
      "metadata": {
        "id": "Zcqh-06OrNYB"
      },
      "execution_count": null,
      "outputs": []
    }
  ]
}